{
 "cells": [
  {
   "cell_type": "markdown",
   "metadata": {},
   "source": [
    "## Create Train Dataset to train the Model"
   ]
  },
  {
   "cell_type": "code",
   "execution_count": 1,
   "metadata": {},
   "outputs": [],
   "source": [
    "import os\n",
    "os.chdir('../..')\n",
    "from trips.config import *\n",
    "from trips.weibull_trips import main\n",
    "import subprocess"
   ]
  },
  {
   "cell_type": "code",
   "execution_count": 2,
   "metadata": {},
   "outputs": [],
   "source": [
    "scene_src_probabilities = {\n",
    "    \"High Traffic Scenerio\": [0.25, 0.25, 0.25, 0.25],\n",
    "    \"Low Traffic Scenerio\": [0.25, 0.25, 0.25, 0.25],\n",
    "    \"NS-Traffic Scenerio\": [0.45, 0.05, 0.45, 0.05],\n",
    "    \"EW-Traffic Scenerio\": [0.05, 0.45, 0.05, 0.45],\n",
    "}\n",
    "\n",
    "scene_number_cars = {\n",
    "    \"High Traffic Scenerio\": 1000,\n",
    "    \"Low Traffic Scenerio\": 150,\n",
    "    \"NS-Traffic Scenerio\": 500,\n",
    "    \"EW-Traffic Scenerio\": 500,\n",
    "}\n",
    "\n",
    "\n",
    "if not os.path.exists(\"train/A2C/\"):\n",
    "    os.makedirs(\"train/A2C/\")\n",
    "\n",
    "    counter = 0\n",
    "    for scene in scene_src_probabilities:\n",
    "        for i in range(75):\n",
    "            main(\n",
    "                src_nodes,\n",
    "                dst_nodes,\n",
    "                scene_src_probabilities[scene],\n",
    "                turn_prob,\n",
    "                emergency_probs,\n",
    "                shape,\n",
    "                scene_number_cars[scene],\n",
    "                total_timesteps,\n",
    "            )\n",
    "            subprocess.run(\n",
    "                [\n",
    "                    \"duarouter\",\n",
    "                    \"-n\",\n",
    "                    \"./network_details/intersection.net.xml\",  # Input network file\n",
    "                    \"-t\",\n",
    "                    \"trips.trips.xml\",  # Input trips file\n",
    "                    \"-o\",\n",
    "                    f\"train/A2C/intersection_{counter}.rou.xml\",  # Output routes file\n",
    "                ]\n",
    "            )\n",
    "            counter += 1\n",
    "            \n",
    "    os.remove(\"trips.trips.xml\")\n",
    "\n",
    "\n",
    "route_files = [f\"train/A2C/intersection_{i}.rou.xml\" for i in range(300)]\n",
    "        "
   ]
  },
  {
   "cell_type": "markdown",
   "metadata": {},
   "source": [
    "## Create the environment"
   ]
  },
  {
   "cell_type": "code",
   "execution_count": 3,
   "metadata": {},
   "outputs": [],
   "source": [
    "from environment.environment import MultiRouteSumoEnvironment\n",
    "def make_env():\n",
    "    return MultiRouteSumoEnvironment(\n",
    "        net_file=\"network_details/intersection.net.xml\",\n",
    "        route_files=route_files,\n",
    "        out_csv_name='outputs/train/A2C/A2C',\n",
    "        min_green=5,\n",
    "        yellow_time=5,\n",
    "        delta_time=10,\n",
    "        use_gui=False,\n",
    "        num_seconds=5400\n",
    "    )"
   ]
  },
  {
   "cell_type": "markdown",
   "metadata": {},
   "source": [
    "## Train the policy"
   ]
  },
  {
   "cell_type": "code",
   "execution_count": null,
   "metadata": {},
   "outputs": [],
   "source": [
    "from stable_baselines3 import A2C\n",
    "from stable_baselines3.common.logger import configure\n",
    "from stable_baselines3.common.vec_env import DummyVecEnv, VecMonitor\n",
    "\n",
    "num_envs = 8\n",
    "env = DummyVecEnv([make_env for _ in range(num_envs)])\n",
    "env = VecMonitor(env)\n",
    "\n",
    "out_path = \"outputs/train/A2C/\"\n",
    "new_logger = configure(out_path, [\"stdout\", \"csv\"])\n",
    "model = A2C(\"MlpPolicy\", env, verbose=1)\n",
    "\n",
    "# Set logger and start training\n",
    "model.set_logger(new_logger)\n",
    "model.learn(total_timesteps=540 * 450, log_interval=108)\n",
    "model.save('a2c_multi_scene')"
   ]
  }
 ],
 "metadata": {
  "kernelspec": {
   "display_name": "traffic-light-control",
   "language": "python",
   "name": "python3"
  },
  "language_info": {
   "codemirror_mode": {
    "name": "ipython",
    "version": 3
   },
   "file_extension": ".py",
   "mimetype": "text/x-python",
   "name": "python",
   "nbconvert_exporter": "python",
   "pygments_lexer": "ipython3",
   "version": "3.12.5"
  }
 },
 "nbformat": 4,
 "nbformat_minor": 2
}
