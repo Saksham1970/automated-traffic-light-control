{
 "cells": [
  {
   "cell_type": "markdown",
   "metadata": {},
   "source": [
    "## Create Train Dataset to train the Model"
   ]
  },
  {
   "cell_type": "code",
   "execution_count": 1,
   "metadata": {},
   "outputs": [],
   "source": [
    "import os\n",
    "os.chdir('../..')\n",
    "from trips.config import *\n",
    "from trips.weibull_trips import main\n",
    "import subprocess"
   ]
  },
  {
   "cell_type": "code",
   "execution_count": null,
   "metadata": {},
   "outputs": [],
   "source": [
    "number_cars = 400\n",
    "\n",
    "if not os.path.exists(\"train/emergency\"):\n",
    "    os.makedirs(\"train/emergency\")\n",
    "    \n",
    "    for i in range(300):\n",
    "        main(\n",
    "            src_nodes,\n",
    "            dst_nodes,\n",
    "            src_prob,\n",
    "            turn_prob,\n",
    "            emergency_probs,\n",
    "            shape,\n",
    "            number_cars,\n",
    "            total_timesteps,\n",
    "        )\n",
    "        subprocess.run(\n",
    "            [\n",
    "                \"duarouter\",\n",
    "                \"-n\",\n",
    "                \"./network_details/intersection.net.xml\",  # Input network file\n",
    "                \"-t\",\n",
    "                \"trips.trips.xml\",  # Input trips file\n",
    "                \"-o\",\n",
    "                f\"train/emergency/intersection_{i}.rou.xml\",  # Output routes file\n",
    "            ]\n",
    "        )\n",
    "    os.remove(\"trips.trips.xml\")\n",
    "    \n",
    "route_files = [f\"train/emergency/intersection_{i}.rou.xml\" for i in range(300)]"
   ]
  },
  {
   "cell_type": "markdown",
   "metadata": {},
   "source": [
    "## Create the environment"
   ]
  },
  {
   "cell_type": "code",
   "execution_count": 3,
   "metadata": {},
   "outputs": [],
   "source": [
    "from environment.environment import EmergencySumoEnvironment\n",
    "from environment.observation import EmergencyObservationFunction\n",
    "from environment.reward import emergency_reward"
   ]
  },
  {
   "cell_type": "code",
   "execution_count": 4,
   "metadata": {},
   "outputs": [
    {
     "name": "stdout",
     "output_type": "stream",
     "text": [
      " Retrying in 1 seconds\n",
      "Step #0.00 (0ms ?*RT. ?UPS, TraCI: 9ms, vehicles TOT 0 ACT 0 BUF 0)                      \n"
     ]
    }
   ],
   "source": [
    "env = EmergencySumoEnvironment(\n",
    "    net_file=\"network_details/intersection.net.xml\",\n",
    "    route_files=route_files,\n",
    "    out_csv_name=f'outputs/train/Emergency/DQN',\n",
    "    min_green=5,\n",
    "    yellow_time=5,\n",
    "    delta_time=10,\n",
    "    use_gui=False,\n",
    "    num_seconds=5400,\n",
    "    observation_class=EmergencyObservationFunction,\n",
    "    reward_fn=emergency_reward\n",
    ")"
   ]
  },
  {
   "cell_type": "markdown",
   "metadata": {},
   "source": [
    "## Train the policy"
   ]
  },
  {
   "cell_type": "code",
   "execution_count": null,
   "metadata": {},
   "outputs": [],
   "source": [
    "from stable_baselines3 import DQN\n",
    "from stable_baselines3.common.logger import configure\n",
    "\n",
    "out_path = \"outputs/train/Emergency/\"\n",
    "new_logger = configure(out_path, [\"stdout\", \"csv\"])\n",
    "model = DQN(\n",
    "    env=env,\n",
    "    policy=\"MlpPolicy\",\n",
    "    learning_rate=0.0001,     # Conservative learning rate\n",
    "    train_freq=4,             # Less frequent updates\n",
    "    learning_starts=2000,\n",
    "    target_update_interval=200,\n",
    "    exploration_fraction=0.35,\n",
    "    exploration_initial_eps=1.0,\n",
    "    exploration_final_eps=0.05,\n",
    "    tau=0.01,\n",
    "    buffer_size=50000,\n",
    "    batch_size=32,\n",
    "    gamma=0.95,              # Shorter-term focus\n",
    "    verbose=1,\n",
    "    gradient_steps=1,        # Conservative gradient updates\n",
    "    max_grad_norm=0.5        # Added gradient clipping\n",
    ")\n",
    "\n",
    "\n",
    "\n",
    "model.set_logger(new_logger)\n",
    "model.learn(540 * 300, log_interval=1)\n",
    "model.save('agents/dqn_emergency')"
   ]
  }
 ],
 "metadata": {
  "kernelspec": {
   "display_name": "traffic-light-control",
   "language": "python",
   "name": "python3"
  },
  "language_info": {
   "codemirror_mode": {
    "name": "ipython",
    "version": 3
   },
   "file_extension": ".py",
   "mimetype": "text/x-python",
   "name": "python",
   "nbconvert_exporter": "python",
   "pygments_lexer": "ipython3",
   "version": "3.12.5"
  }
 },
 "nbformat": 4,
 "nbformat_minor": 2
}
