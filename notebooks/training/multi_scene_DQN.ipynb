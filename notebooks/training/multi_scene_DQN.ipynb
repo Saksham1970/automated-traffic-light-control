{
 "cells": [
  {
   "cell_type": "markdown",
   "metadata": {},
   "source": [
    "## Create Train Dataset to train the Model"
   ]
  },
  {
   "cell_type": "code",
   "execution_count": 1,
   "metadata": {},
   "outputs": [],
   "source": [
    "import os\n",
    "os.chdir('../..')\n",
    "from trips.config import *\n",
    "from trips.weibull_trips import main\n",
    "import subprocess"
   ]
  },
  {
   "cell_type": "code",
   "execution_count": null,
   "metadata": {},
   "outputs": [],
   "source": [
    "scene_src_probabilities = {\n",
    "    \"High Traffic Scenerio\": [0.25, 0.25, 0.25, 0.25],\n",
    "    \"Low Traffic Scenerio\": [0.25, 0.25, 0.25, 0.25],\n",
    "    \"NS-Traffic Scenerio\": [0.45, 0.05, 0.45, 0.05],\n",
    "    \"EW-Traffic Scenerio\": [0.05, 0.45, 0.05, 0.45],\n",
    "}\n",
    "\n",
    "scene_number_cars = {\n",
    "    \"High Traffic Scenerio\": 1000,\n",
    "    \"Low Traffic Scenerio\": 150,\n",
    "    \"NS-Traffic Scenerio\": 500,\n",
    "    \"EW-Traffic Scenerio\": 500,\n",
    "}\n",
    "\n",
    "\n",
    "if not os.path.exists(\"train/DQN/\"):\n",
    "    os.makedirs(\"train/DQN/\")\n",
    "\n",
    "    counter = 0\n",
    "    for scene in scene_src_probabilities:\n",
    "        for i in range(75):\n",
    "            main(\n",
    "                src_nodes,\n",
    "                dst_nodes,\n",
    "                scene_src_probabilities[scene],\n",
    "                turn_prob,\n",
    "                emergency_probs,\n",
    "                shape,\n",
    "                scene_number_cars[scene],\n",
    "                total_timesteps,\n",
    "            )\n",
    "            subprocess.run(\n",
    "                [\n",
    "                    \"duarouter\",\n",
    "                    \"-n\",\n",
    "                    \"./network_details/intersection.net.xml\",  # Input network file\n",
    "                    \"-t\",\n",
    "                    \"trips.trips.xml\",  # Input trips file\n",
    "                    \"-o\",\n",
    "                    f\"train/DQN/intersection_{counter}.rou.xml\",  # Output routes file\n",
    "                ]\n",
    "            )\n",
    "            counter += 1\n",
    "            \n",
    "    os.remove(\"trips.trips.xml\")\n",
    "\n",
    "\n",
    "route_files = [f\"train/DQN/intersection_{i}.rou.xml\" for i in range(300)]\n",
    "        "
   ]
  },
  {
   "cell_type": "markdown",
   "metadata": {},
   "source": [
    "## Create the environment"
   ]
  },
  {
   "cell_type": "code",
   "execution_count": 3,
   "metadata": {},
   "outputs": [],
   "source": [
    "from environment.environment import MultiRouteSumoEnvironment"
   ]
  },
  {
   "cell_type": "code",
   "execution_count": 4,
   "metadata": {},
   "outputs": [
    {
     "name": "stdout",
     "output_type": "stream",
     "text": [
      " Retrying in 1 seconds\n",
      "Step #0.00 (0ms ?*RT. ?UPS, TraCI: 4ms, vehicles TOT 0 ACT 0 BUF 0)                      \n"
     ]
    }
   ],
   "source": [
    "env = MultiRouteSumoEnvironment(\n",
    "    net_file=\"network_details/intersection.net.xml\",\n",
    "    route_files=route_files,\n",
    "    out_csv_name=f'outputs/train/DQN/DQN',\n",
    "    min_green=5,\n",
    "    yellow_time=5,\n",
    "    delta_time=10,\n",
    "    use_gui=False,\n",
    "    num_seconds=5400\n",
    ")"
   ]
  },
  {
   "cell_type": "markdown",
   "metadata": {},
   "source": [
    "## Train the policy"
   ]
  },
  {
   "cell_type": "code",
   "execution_count": null,
   "metadata": {},
   "outputs": [],
   "source": [
    "from stable_baselines3 import DQN\n",
    "from stable_baselines3.common.logger import configure\n",
    "\n",
    "out_path = \"outputs/train/DQN\"\n",
    "new_logger = configure(out_path, [\"stdout\", \"csv\"])\n",
    "model = DQN(\n",
    "        env=env,\n",
    "        policy=\"MlpPolicy\",\n",
    "        learning_rate=0.0001,\n",
    "        train_freq=1,\n",
    "        learning_starts=10000,\n",
    "        target_update_interval=1000,\n",
    "        exploration_fraction=0.3,\n",
    "        exploration_initial_eps=1,\n",
    "        tau=0.005,\n",
    "        exploration_final_eps=0.01,\n",
    "        verbose=1,\n",
    "    )\n",
    "\n",
    "model.set_logger(new_logger)\n",
    "model.learn(540 * 450, log_interval=1)\n",
    "model.save('dqn_multi_scene')"
   ]
  }
 ],
 "metadata": {
  "kernelspec": {
   "display_name": "traffic-light-control",
   "language": "python",
   "name": "python3"
  },
  "language_info": {
   "codemirror_mode": {
    "name": "ipython",
    "version": 3
   },
   "file_extension": ".py",
   "mimetype": "text/x-python",
   "name": "python",
   "nbconvert_exporter": "python",
   "pygments_lexer": "ipython3",
   "version": "3.12.5"
  }
 },
 "nbformat": 4,
 "nbformat_minor": 2
}
