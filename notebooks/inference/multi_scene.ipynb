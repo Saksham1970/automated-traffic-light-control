{
 "cells": [
  {
   "cell_type": "markdown",
   "metadata": {},
   "source": [
    "## Create the Test Data for four scenerios"
   ]
  },
  {
   "cell_type": "code",
   "execution_count": null,
   "metadata": {},
   "outputs": [],
   "source": [
    "import os\n",
    "os.chdir('../..')\n",
    "from trips.config import *\n",
    "from trips.weibull_trips import main\n",
    "import subprocess"
   ]
  },
  {
   "cell_type": "code",
   "execution_count": null,
   "metadata": {},
   "outputs": [],
   "source": [
    "scene_src_probabilities = {\n",
    "    \"High Traffic Scenerio\": [0.25, 0.25, 0.25, 0.25],\n",
    "    \"Low Traffic Scenerio\": [0.25, 0.25, 0.25, 0.25],\n",
    "    \"NS-Traffic Scenerio\": [0.45, 0.05, 0.45, 0.05],\n",
    "    \"EW-Traffic Scenerio\": [0.05, 0.45, 0.05, 0.45],\n",
    "}\n",
    "\n",
    "scene_number_cars = {\n",
    "    \"High Traffic Scenerio\": 1000,\n",
    "    \"Low Traffic Scenerio\": 150,\n",
    "    \"NS-Traffic Scenerio\": 500,\n",
    "    \"EW-Traffic Scenerio\": 500,\n",
    "}\n",
    "\n",
    "\n",
    "if not os.path.exists(\"test\"):\n",
    "    os.makedirs(\"test\")\n",
    "    \n",
    "for scene in scene_src_probabilities:\n",
    "    main(\n",
    "        src_nodes,\n",
    "        dst_nodes,\n",
    "        scene_src_probabilities[scene],\n",
    "        turn_prob,\n",
    "        emergency_probs,\n",
    "        shape,\n",
    "        scene_number_cars[scene],\n",
    "        total_timesteps,\n",
    "    )\n",
    "    subprocess.run(\n",
    "        [\n",
    "            \"duarouter\",\n",
    "            \"-n\",\n",
    "            \"./network_details/intersection.net.xml\",  # Input network file\n",
    "            \"-t\",\n",
    "            \"trips.trips.xml\",  # Input trips file\n",
    "            \"-o\",\n",
    "            f\"test/intersection_{scene}.rou.xml\",  # Output routes file\n",
    "        ]\n",
    "    )\n",
    "os.remove(\"trips.trips.xml\")\n",
    "\n",
    "\n",
    "route_files = [f\"test/intersection_{scene}.rou.xml\" for scene in scene_src_probabilities]\n",
    "        "
   ]
  },
  {
   "cell_type": "markdown",
   "metadata": {},
   "source": [
    "## Test round robin algorithm on the scenerios"
   ]
  },
  {
   "cell_type": "code",
   "execution_count": 4,
   "metadata": {},
   "outputs": [],
   "source": [
    "from environment.environment import MultiRouteSumoEnvironment"
   ]
  },
  {
   "cell_type": "code",
   "execution_count": null,
   "metadata": {},
   "outputs": [
    {
     "name": "stdout",
     "output_type": "stream",
     "text": [
      " Retrying in 1 seconds\n",
      "Step #0.00 (0ms ?*RT. ?UPS, TraCI: 12ms, vehicles TOT 0 ACT 0 BUF 0)                     \n",
      " Retrying in 1 seconds\n",
      "Step #5400.00 (0ms ?*RT. ?UPS, TraCI: 6ms, vehicles TOT 1000 ACT 1 BUF 0)                 tep #4500.00 (0ms ?*RT. ?UPS, TraCI: 9ms, vehicles TOT 996 ACT 1 BUF 0)                  \n",
      " Retrying in 1 seconds\n",
      "Step #0.00 (0ms ?*RT. ?UPS, TraCI: 12ms, vehicles TOT 0 ACT 0 BUF 0)                     \n",
      " Retrying in 1 seconds\n",
      "Step #0.00 (0ms ?*RT. ?UPS, TraCI: 4ms, vehicles TOT 0 ACT 0 BUF 0)                      \n",
      " Retrying in 1 seconds\n",
      "Step #5400.00 (0ms ?*RT. ?UPS, TraCI: 4ms, vehicles TOT 150 ACT 0 BUF 0)                  tep #4500.00 (0ms ?*RT. ?UPS, TraCI: 5ms, vehicles TOT 146 ACT 0 BUF 0)                  \n",
      " Retrying in 1 seconds\n",
      "Step #0.00 (0ms ?*RT. ?UPS, TraCI: 29ms, vehicles TOT 0 ACT 0 BUF 0)                     \n",
      " Retrying in 1 seconds\n",
      "Step #0.00 (0ms ?*RT. ?UPS, TraCI: 10ms, vehicles TOT 0 ACT 0 BUF 0)                     \n",
      " Retrying in 1 seconds\n",
      "Step #5400.00 (0ms ?*RT. ?UPS, TraCI: 5ms, vehicles TOT 500 ACT 1 BUF 0)                  tep #4500.00 (0ms ?*RT. ?UPS, TraCI: 6ms, vehicles TOT 496 ACT 1 BUF 0)                  \n",
      " Retrying in 1 seconds\n",
      "Step #0.00 (0ms ?*RT. ?UPS, TraCI: 29ms, vehicles TOT 0 ACT 0 BUF 0)                     \n",
      " Retrying in 1 seconds\n",
      "Step #0.00 (0ms ?*RT. ?UPS, TraCI: 12ms, vehicles TOT 0 ACT 0 BUF 0)                     \n",
      " Retrying in 1 seconds\n",
      "Step #5400.00 (0ms ?*RT. ?UPS, TraCI: 4ms, vehicles TOT 500 ACT 0 BUF 0)                  tep #4500.00 (0ms ?*RT. ?UPS, TraCI: 9ms, vehicles TOT 495 ACT 3 BUF 0)                  \n",
      " Retrying in 1 seconds\n",
      "Step #0.00 (0ms ?*RT. ?UPS, TraCI: 29ms, vehicles TOT 0 ACT 0 BUF 0)                     \n"
     ]
    }
   ],
   "source": [
    "for i in range(4):\n",
    "    env = MultiRouteSumoEnvironment(\n",
    "        net_file=\"network_details/intersection.net.xml\",\n",
    "        route_files=[route_files[i]],\n",
    "        out_csv_name=f'outputs/test/{i}/RoundRobin',\n",
    "        min_green=25,\n",
    "        yellow_time=5,\n",
    "        delta_time=30,\n",
    "        use_gui=False,\n",
    "        num_seconds=5400\n",
    "    )\n",
    "\n",
    "    obs, info = env.reset()\n",
    "    done = False\n",
    "\n",
    "    action_index = 0  \n",
    "    while not done:\n",
    "        action = action_index % 4\n",
    "        \n",
    "        next_obs, reward, terminated, truncated, info = env.step(action)\n",
    "        done = terminated or truncated\n",
    "\n",
    "        action_index += 1\n",
    "\n",
    "    obs, info = env.reset()\n",
    "    env.close()"
   ]
  },
  {
   "cell_type": "markdown",
   "metadata": {},
   "source": [
    "## Test trained DQN Policy on the scenerios"
   ]
  },
  {
   "cell_type": "code",
   "execution_count": null,
   "metadata": {},
   "outputs": [
    {
     "name": "stderr",
     "output_type": "stream",
     "text": [
      "/home/saksham/miniconda3/envs/sumo-rl/lib/python3.12/site-packages/stable_baselines3/common/save_util.py:167: UserWarning: Could not deserialize object lr_schedule. Consider using `custom_objects` argument to replace this object.\n",
      "Exception: code() argument 13 must be str, not int\n",
      "  warnings.warn(\n",
      "/home/saksham/miniconda3/envs/sumo-rl/lib/python3.12/site-packages/stable_baselines3/common/save_util.py:167: UserWarning: Could not deserialize object exploration_schedule. Consider using `custom_objects` argument to replace this object.\n",
      "Exception: code() argument 13 must be str, not int\n",
      "  warnings.warn(\n"
     ]
    },
    {
     "name": "stdout",
     "output_type": "stream",
     "text": [
      " Retrying in 1 seconds\n",
      "Step #0.00 (0ms ?*RT. ?UPS, TraCI: 11ms, vehicles TOT 0 ACT 0 BUF 0)                     \n",
      " Retrying in 1 seconds\n",
      "Step #5400.00 (0ms ?*RT. ?UPS, TraCI: 6ms, vehicles TOT 1000 ACT 0 BUF 0)                 tep #4500.00 (0ms ?*RT. ?UPS, TraCI: 8ms, vehicles TOT 996 ACT 1 BUF 0)                  \n",
      " Retrying in 1 seconds\n",
      "Step #0.00 (0ms ?*RT. ?UPS, TraCI: 10ms, vehicles TOT 0 ACT 0 BUF 0)                     \n",
      " Retrying in 1 seconds\n",
      "Step #0.00 (0ms ?*RT. ?UPS, TraCI: 12ms, vehicles TOT 0 ACT 0 BUF 0)                     \n",
      " Retrying in 1 seconds\n",
      "Step #5400.00 (0ms ?*RT. ?UPS, TraCI: 5ms, vehicles TOT 150 ACT 0 BUF 0)                  tep #4500.00 (0ms ?*RT. ?UPS, TraCI: 7ms, vehicles TOT 146 ACT 0 BUF 0)                  \n",
      " Retrying in 1 seconds\n",
      "Step #0.00 (0ms ?*RT. ?UPS, TraCI: 11ms, vehicles TOT 0 ACT 0 BUF 0)                     \n",
      " Retrying in 1 seconds\n",
      "Step #0.00 (0ms ?*RT. ?UPS, TraCI: 7ms, vehicles TOT 0 ACT 0 BUF 0)                      \n",
      " Retrying in 1 seconds\n",
      "Step #5400.00 (0ms ?*RT. ?UPS, TraCI: 5ms, vehicles TOT 500 ACT 0 BUF 0)                  tep #4500.00 (0ms ?*RT. ?UPS, TraCI: 8ms, vehicles TOT 496 ACT 1 BUF 0)                  \n",
      " Retrying in 1 seconds\n",
      "Step #0.00 (0ms ?*RT. ?UPS, TraCI: 17ms, vehicles TOT 0 ACT 0 BUF 0)                     \n",
      " Retrying in 1 seconds\n",
      "Step #0.00 (0ms ?*RT. ?UPS, TraCI: 11ms, vehicles TOT 0 ACT 0 BUF 0)                     \n",
      " Retrying in 1 seconds\n",
      "Step #5400.00 (0ms ?*RT. ?UPS, TraCI: 4ms, vehicles TOT 500 ACT 0 BUF 0)                  tep #4500.00 (0ms ?*RT. ?UPS, TraCI: 10ms, vehicles TOT 495 ACT 3 BUF 0)                 \n",
      " Retrying in 1 seconds\n",
      "Step #0.00 (0ms ?*RT. ?UPS, TraCI: 9ms, vehicles TOT 0 ACT 0 BUF 0)                      \n"
     ]
    }
   ],
   "source": [
    "from stable_baselines3 import DQN\n",
    "\n",
    "model = DQN.load(\"agents/dqn_multi_scene\")\n",
    "\n",
    "for i in range(4):\n",
    "    env = MultiRouteSumoEnvironment(\n",
    "        net_file=\"network_details/intersection.net.xml\",\n",
    "        route_files=[route_files[i]],\n",
    "        out_csv_name=f'outputs/test/{i}/DQN',\n",
    "        min_green=5,\n",
    "        yellow_time=5,\n",
    "        delta_time=10,\n",
    "        use_gui=False,\n",
    "        num_seconds=5400\n",
    "    )\n",
    "    \n",
    "    obs, info = env.reset()\n",
    "    done = False\n",
    "\n",
    "    while not done:\n",
    "        action, _states = model.predict(obs, deterministic=True)\n",
    "        obs, reward, terminated, truncated, info = env.step(action)\n",
    "        done = terminated or truncated\n",
    "\n",
    "    obs, info = env.reset()\n",
    "    env.close()"
   ]
  },
  {
   "cell_type": "markdown",
   "metadata": {},
   "source": [
    "## Test the trained A2C algorithm on the scenerios"
   ]
  },
  {
   "cell_type": "code",
   "execution_count": null,
   "metadata": {},
   "outputs": [
    {
     "name": "stderr",
     "output_type": "stream",
     "text": [
      "/home/saksham/miniconda3/envs/sumo-rl/lib/python3.12/site-packages/stable_baselines3/common/save_util.py:167: UserWarning: Could not deserialize object lr_schedule. Consider using `custom_objects` argument to replace this object.\n",
      "Exception: code() argument 13 must be str, not int\n",
      "  warnings.warn(\n"
     ]
    },
    {
     "name": "stdout",
     "output_type": "stream",
     "text": [
      " Retrying in 1 seconds\n",
      "Step #0.00 (0ms ?*RT. ?UPS, TraCI: 11ms, vehicles TOT 0 ACT 0 BUF 0)                     \n",
      " Retrying in 1 seconds\n",
      "Step #5400.00 (0ms ?*RT. ?UPS, TraCI: 6ms, vehicles TOT 1000 ACT 0 BUF 0)                 tep #4500.00 (0ms ?*RT. ?UPS, TraCI: 9ms, vehicles TOT 996 ACT 1 BUF 0)                  \n",
      " Retrying in 1 seconds\n",
      " Retrying in 1 seconds\n",
      "Step #0.00 (0ms ?*RT. ?UPS, TraCI: 11ms, vehicles TOT 0 ACT 0 BUF 0)                     \n",
      " Retrying in 1 seconds\n",
      "Step #5400.00 (0ms ?*RT. ?UPS, TraCI: 5ms, vehicles TOT 150 ACT 0 BUF 0)                  tep #4500.00 (0ms ?*RT. ?UPS, TraCI: 8ms, vehicles TOT 146 ACT 0 BUF 0)                  \n",
      " Retrying in 1 seconds\n",
      " Retrying in 1 seconds\n",
      "Step #0.00 (0ms ?*RT. ?UPS, TraCI: 10ms, vehicles TOT 0 ACT 0 BUF 0)                     \n",
      " Retrying in 1 seconds\n",
      "Step #5400.00 (0ms ?*RT. ?UPS, TraCI: 4ms, vehicles TOT 500 ACT 0 BUF 0)                  tep #4500.00 (0ms ?*RT. ?UPS, TraCI: 11ms, vehicles TOT 496 ACT 1 BUF 0)                 \n",
      " Retrying in 1 seconds\n",
      " Retrying in 1 seconds\n",
      "Step #0.00 (0ms ?*RT. ?UPS, TraCI: 11ms, vehicles TOT 0 ACT 0 BUF 0)                     \n",
      " Retrying in 1 seconds\n",
      "Step #5400.00 (0ms ?*RT. ?UPS, TraCI: 8ms, vehicles TOT 500 ACT 0 BUF 0)                  tep #4500.00 (0ms ?*RT. ?UPS, TraCI: 13ms, vehicles TOT 495 ACT 3 BUF 0)                 \n",
      " Retrying in 1 seconds\n"
     ]
    }
   ],
   "source": [
    "from stable_baselines3 import A2C\n",
    "from stable_baselines3.common.vec_env import DummyVecEnv\n",
    "\n",
    "model = A2C.load('agents/a2c_multi_scene')\n",
    "\n",
    "for i in range(4):\n",
    "    def make_env():\n",
    "        return MultiRouteSumoEnvironment(\n",
    "            net_file=\"network_details/intersection.net.xml\",\n",
    "            route_files=route_files,\n",
    "            out_csv_name=f'outputs/test/{i}/A2C',\n",
    "            min_green=5,\n",
    "            yellow_time=5,\n",
    "            delta_time=10,\n",
    "            use_gui=False,\n",
    "            num_seconds=5400\n",
    "        )\n",
    "        \n",
    "    test_env = DummyVecEnv([make_env])\n",
    "\n",
    "    obs = test_env.reset()\n",
    "    done = False\n",
    "    while not done:\n",
    "        action, _states = model.predict(obs, deterministic=True)\n",
    "        obs, reward, done, info = test_env.step(action)\n"
   ]
  }
 ],
 "metadata": {
  "kernelspec": {
   "display_name": "sumo-rl",
   "language": "python",
   "name": "python3"
  },
  "language_info": {
   "codemirror_mode": {
    "name": "ipython",
    "version": 3
   },
   "file_extension": ".py",
   "mimetype": "text/x-python",
   "name": "python",
   "nbconvert_exporter": "python",
   "pygments_lexer": "ipython3",
   "version": "3.12.5"
  }
 },
 "nbformat": 4,
 "nbformat_minor": 2
}
