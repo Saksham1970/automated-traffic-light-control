{
 "cells": [
  {
   "cell_type": "markdown",
   "metadata": {},
   "source": [
    "## Create the Test Data for four scenerios"
   ]
  },
  {
   "cell_type": "code",
   "execution_count": 1,
   "metadata": {},
   "outputs": [],
   "source": [
    "import os\n",
    "os.chdir('../..')\n",
    "from trips.config import *\n",
    "from trips.weibull_trips import main\n",
    "import subprocess"
   ]
  },
  {
   "cell_type": "code",
   "execution_count": null,
   "metadata": {},
   "outputs": [
    {
     "name": "stderr",
     "output_type": "stream",
     "text": [
      "Warning: Please note that 't' is deprecated.\n",
      " Use 'route-files' instead.\n",
      "Warning: Please note that 't' is deprecated.\n",
      " Use 'route-files' instead.\n"
     ]
    },
    {
     "name": "stdout",
     "output_type": "stream",
     "text": [
      "Success.up to time step: 5243.00\n",
      "Success.up to time step: 5231.00\n"
     ]
    },
    {
     "name": "stderr",
     "output_type": "stream",
     "text": [
      "Warning: Please note that 't' is deprecated.\n",
      " Use 'route-files' instead.\n",
      "Warning: Please note that 't' is deprecated.\n",
      " Use 'route-files' instead.\n"
     ]
    },
    {
     "name": "stdout",
     "output_type": "stream",
     "text": [
      "Success.up to time step: 5309.00\n",
      "Success.up to time step: 5360.00\n"
     ]
    }
   ],
   "source": [
    "scene_src_probabilities = {\n",
    "    \"High Traffic Scenerio\": [0.25, 0.25, 0.25, 0.25],\n",
    "    \"Low Traffic Scenerio\": [0.25, 0.25, 0.25, 0.25],\n",
    "    \"NS-Traffic Scenerio\": [0.45, 0.05, 0.45, 0.05],\n",
    "    \"EW-Traffic Scenerio\": [0.05, 0.45, 0.05, 0.45],\n",
    "}\n",
    "\n",
    "scene_number_cars = {\n",
    "    \"High Traffic Scenerio\": 1000,\n",
    "    \"Low Traffic Scenerio\": 150,\n",
    "    \"NS-Traffic Scenerio\": 500,\n",
    "    \"EW-Traffic Scenerio\": 500,\n",
    "}\n",
    "\n",
    "\n",
    "if not os.path.exists(\"test\"):\n",
    "    os.makedirs(\"test\")\n",
    "    \n",
    "for scene in scene_src_probabilities:\n",
    "    main(\n",
    "        src_nodes,\n",
    "        dst_nodes,\n",
    "        scene_src_probabilities[scene],\n",
    "        turn_prob,\n",
    "        emergency_probs,\n",
    "        shape,\n",
    "        scene_number_cars[scene],\n",
    "        total_timesteps,\n",
    "    )\n",
    "    subprocess.run(\n",
    "        [\n",
    "            \"duarouter\",\n",
    "            \"-n\",\n",
    "            \"./network_details/intersection.net.xml\",  \n",
    "            \"-t\",\n",
    "            \"trips.trips.xml\",  \n",
    "            \"-o\",\n",
    "            f\"test/intersection_{scene}.rou.xml\",  \n",
    "        ]\n",
    "    )\n",
    "os.remove(\"trips.trips.xml\")\n",
    "\n",
    "\n",
    "route_files = [f\"test/intersection_{scene}.rou.xml\" for scene in scene_src_probabilities]\n",
    "        "
   ]
  },
  {
   "cell_type": "markdown",
   "metadata": {},
   "source": [
    "## Test round robin algorithm on the scenerios"
   ]
  },
  {
   "cell_type": "code",
   "execution_count": 3,
   "metadata": {},
   "outputs": [],
   "source": [
    "from environment.environment import MultiRouteSumoEnvironment"
   ]
  },
  {
   "cell_type": "code",
   "execution_count": null,
   "metadata": {},
   "outputs": [],
   "source": [
    "for i in range(4):\n",
    "    env = MultiRouteSumoEnvironment(\n",
    "        net_file=\"network_details/intersection.net.xml\",\n",
    "        route_files=[route_files[i]],\n",
    "        out_csv_name=f'outputs/test/{i}/RoundRobin',\n",
    "        min_green=25,\n",
    "        yellow_time=5,\n",
    "        delta_time=30,\n",
    "        use_gui=False,\n",
    "        num_seconds=5400\n",
    "    )\n",
    "\n",
    "    obs, info = env.reset()\n",
    "    done = False\n",
    "\n",
    "    action_index = 0  \n",
    "    while not done:\n",
    "        action = action_index % 4\n",
    "        \n",
    "        next_obs, reward, terminated, truncated, info = env.step(action)\n",
    "        done = terminated or truncated\n",
    "\n",
    "        action_index += 1\n",
    "\n",
    "    obs, info = env.reset()\n",
    "    env.close()"
   ]
  },
  {
   "cell_type": "markdown",
   "metadata": {},
   "source": [
    "## Test trained DQN Policy on the scenerios"
   ]
  },
  {
   "cell_type": "code",
   "execution_count": null,
   "metadata": {},
   "outputs": [],
   "source": [
    "from stable_baselines3 import DQN\n",
    "\n",
    "model = DQN.load(\"agents/dqn_multi_scene\")\n",
    "\n",
    "for i in range(4):\n",
    "    env = MultiRouteSumoEnvironment(\n",
    "        net_file=\"network_details/intersection.net.xml\",\n",
    "        route_files=[route_files[i]],\n",
    "        out_csv_name=f'outputs/test/{i}/DQN',\n",
    "        min_green=5,\n",
    "        yellow_time=5,\n",
    "        delta_time=10,\n",
    "        use_gui=False,\n",
    "        num_seconds=5400\n",
    "    )\n",
    "    \n",
    "    obs, info = env.reset()\n",
    "    done = False\n",
    "\n",
    "    while not done:\n",
    "        action, _states = model.predict(obs, deterministic=True)\n",
    "        obs, reward, terminated, truncated, info = env.step(action)\n",
    "        done = terminated or truncated\n",
    "\n",
    "    obs, info = env.reset()\n",
    "    env.close()"
   ]
  },
  {
   "cell_type": "markdown",
   "metadata": {},
   "source": [
    "## Test the trained A2C algorithm on the scenerios"
   ]
  },
  {
   "cell_type": "code",
   "execution_count": null,
   "metadata": {},
   "outputs": [],
   "source": [
    "from stable_baselines3 import A2C\n",
    "from stable_baselines3.common.vec_env import DummyVecEnv\n",
    "\n",
    "model = A2C.load('agents/a2c_multi_scene')\n",
    "\n",
    "for i in range(4):\n",
    "    def make_env():\n",
    "        return MultiRouteSumoEnvironment(\n",
    "            net_file=\"network_details/intersection.net.xml\",\n",
    "            route_files=route_files,\n",
    "            out_csv_name=f'outputs/test/{i}/A2C',\n",
    "            min_green=5,\n",
    "            yellow_time=5,\n",
    "            delta_time=10,\n",
    "            use_gui=False,\n",
    "            num_seconds=5400\n",
    "        )\n",
    "        \n",
    "    test_env = DummyVecEnv([make_env])\n",
    "\n",
    "    obs = test_env.reset()\n",
    "    done = False\n",
    "    while not done:\n",
    "        action, _states = model.predict(obs, deterministic=True)\n",
    "        obs, reward, done, info = test_env.step(action)\n"
   ]
  }
 ],
 "metadata": {
  "kernelspec": {
   "display_name": "traffic-light-control",
   "language": "python",
   "name": "python3"
  },
  "language_info": {
   "codemirror_mode": {
    "name": "ipython",
    "version": 3
   },
   "file_extension": ".py",
   "mimetype": "text/x-python",
   "name": "python",
   "nbconvert_exporter": "python",
   "pygments_lexer": "ipython3",
   "version": "3.12.5"
  }
 },
 "nbformat": 4,
 "nbformat_minor": 2
}
