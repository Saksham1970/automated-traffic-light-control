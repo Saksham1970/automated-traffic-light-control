{
 "cells": [
  {
   "cell_type": "markdown",
   "metadata": {},
   "source": [
    "## Create Test data for the emergency scenerio"
   ]
  },
  {
   "cell_type": "code",
   "execution_count": 1,
   "metadata": {},
   "outputs": [],
   "source": [
    "import os\n",
    "os.chdir('../..')\n",
    "from trips.config import *\n",
    "from trips.weibull_trips import main\n",
    "import subprocess"
   ]
  },
  {
   "cell_type": "code",
   "execution_count": null,
   "metadata": {},
   "outputs": [
    {
     "name": "stdout",
     "output_type": "stream",
     "text": [
      "Success.up to time step: 5331.00\n"
     ]
    },
    {
     "name": "stderr",
     "output_type": "stream",
     "text": [
      "Warning: Please note that 't' is deprecated.\n",
      " Use 'route-files' instead.\n"
     ]
    }
   ],
   "source": [
    "number_cars = 400\n",
    "\n",
    "if not os.path.exists(\"test\"):\n",
    "    os.makedirs(\"test\")\n",
    "    \n",
    "\n",
    "main(\n",
    "    src_nodes,\n",
    "    dst_nodes,\n",
    "    src_prob,\n",
    "    turn_prob,\n",
    "    emergency_probs,\n",
    "    shape,\n",
    "    number_cars,\n",
    "    total_timesteps,\n",
    ")\n",
    "subprocess.run(\n",
    "    [\n",
    "        \"duarouter\",\n",
    "        \"-n\",\n",
    "        \"./network_details/intersection.net.xml\",\n",
    "        \"-t\",\n",
    "        \"trips.trips.xml\",  \n",
    "        \"-o\",\n",
    "        f\"test/intersection_Emergency.rou.xml\", \n",
    "    ]\n",
    ")\n",
    "os.remove(\"trips.trips.xml\")\n",
    "\n",
    "\n",
    "route_files = [\"test/intersection_Emergency.rou.xml\"]\n",
    "        "
   ]
  },
  {
   "cell_type": "code",
   "execution_count": 3,
   "metadata": {},
   "outputs": [],
   "source": [
    "from environment.environment import EmergencySumoEnvironment\n",
    "from environment.observation import EmergencyObservationFunction\n",
    "from environment.reward import emergency_reward"
   ]
  },
  {
   "cell_type": "markdown",
   "metadata": {},
   "source": [
    "## Test round robin algorithm on emergency scenerio"
   ]
  },
  {
   "cell_type": "code",
   "execution_count": null,
   "metadata": {},
   "outputs": [
    {
     "name": "stdout",
     "output_type": "stream",
     "text": [
      " Retrying in 1 seconds\n",
      "Step #0.00 (0ms ?*RT. ?UPS, TraCI: 7ms, vehicles TOT 0 ACT 0 BUF 0)                      \n",
      " Retrying in 1 seconds\n",
      "Step #5400.00 (0ms ?*RT. ?UPS, TraCI: 9ms, vehicles TOT 400 ACT 0 BUF 0)                  tep #4500.00 (1ms ~= 1000.00*RT, ~4000.00UPS, TraCI: 16ms, vehicles TOT 392 ACT 4 BUF 0) \n",
      " Retrying in 1 seconds\n",
      "Step #0.00 (0ms ?*RT. ?UPS, TraCI: 30ms, vehicles TOT 0 ACT 0 BUF 0)                     \n"
     ]
    }
   ],
   "source": [
    "env = EmergencySumoEnvironment(\n",
    "    net_file=\"network_details/intersection.net.xml\",\n",
    "    route_files=route_files,\n",
    "    out_csv_name=f'outputs/test/Emergency/RoundRobin',\n",
    "    min_green=15,\n",
    "    yellow_time=5,\n",
    "    delta_time=20,\n",
    "    use_gui=False,\n",
    "    num_seconds=5400,\n",
    "    observation_class=EmergencyObservationFunction,\n",
    "    reward_fn=emergency_reward\n",
    ")\n",
    "\n",
    "obs, info = env.reset()\n",
    "done = False\n",
    "\n",
    "action_index = 0  \n",
    "while not done:\n",
    "    action = action_index % 4\n",
    "    \n",
    "    next_obs, reward, terminated, truncated, info = env.step(action)\n",
    "    done = terminated or truncated\n",
    "\n",
    "    action_index += 1\n",
    "\n",
    "obs, info = env.reset()\n",
    "env.close()"
   ]
  },
  {
   "cell_type": "markdown",
   "metadata": {},
   "source": [
    "## Test the trained DQN policy on emergency scenerio"
   ]
  },
  {
   "cell_type": "code",
   "execution_count": 5,
   "metadata": {},
   "outputs": [
    {
     "name": "stderr",
     "output_type": "stream",
     "text": [
      "/home/saksham/miniconda3/envs/traffic-light-control/lib/python3.12/site-packages/stable_baselines3/common/save_util.py:167: UserWarning: Could not deserialize object lr_schedule. Consider using `custom_objects` argument to replace this object.\n",
      "Exception: code() argument 13 must be str, not int\n",
      "  warnings.warn(\n",
      "/home/saksham/miniconda3/envs/traffic-light-control/lib/python3.12/site-packages/stable_baselines3/common/save_util.py:167: UserWarning: Could not deserialize object exploration_schedule. Consider using `custom_objects` argument to replace this object.\n",
      "Exception: code() argument 13 must be str, not int\n",
      "  warnings.warn(\n"
     ]
    },
    {
     "name": "stdout",
     "output_type": "stream",
     "text": [
      " Retrying in 1 seconds\n",
      "Step #0.00 (0ms ?*RT. ?UPS, TraCI: 12ms, vehicles TOT 0 ACT 0 BUF 0)                     \n",
      " Retrying in 1 seconds\n",
      "Step #5400.00 (0ms ?*RT. ?UPS, TraCI: 7ms, vehicles TOT 400 ACT 0 BUF 0)                  tep #4500.00 (0ms ?*RT. ?UPS, TraCI: 19ms, vehicles TOT 392 ACT 4 BUF 0)                 \n",
      " Retrying in 1 seconds\n",
      "Step #0.00 (0ms ?*RT. ?UPS, TraCI: 22ms, vehicles TOT 0 ACT 0 BUF 0)                     \n"
     ]
    }
   ],
   "source": [
    "from stable_baselines3 import DQN\n",
    "\n",
    "model = DQN.load(\"agents/dqn_emergency\")\n",
    "\n",
    "env = EmergencySumoEnvironment(\n",
    "    net_file=\"network_details/intersection.net.xml\",\n",
    "    route_files=route_files,\n",
    "    out_csv_name=f'outputs/test/Emergency/DQN',\n",
    "    min_green=5,\n",
    "    yellow_time=5,\n",
    "    delta_time=10,\n",
    "    use_gui=False,\n",
    "    num_seconds=5400,\n",
    "    observation_class=EmergencyObservationFunction,\n",
    "    reward_fn=emergency_reward\n",
    ")\n",
    "\n",
    "obs, info = env.reset()\n",
    "done = False\n",
    "\n",
    "while not done:\n",
    "    action, _states = model.predict(obs, deterministic=True)\n",
    "    obs, reward, terminated, truncated, info = env.step(action)\n",
    "    done = terminated or truncated\n",
    "\n",
    "obs, info = env.reset()\n",
    "env.close()"
   ]
  }
 ],
 "metadata": {
  "kernelspec": {
   "display_name": "traffic-light-control",
   "language": "python",
   "name": "python3"
  },
  "language_info": {
   "codemirror_mode": {
    "name": "ipython",
    "version": 3
   },
   "file_extension": ".py",
   "mimetype": "text/x-python",
   "name": "python",
   "nbconvert_exporter": "python",
   "pygments_lexer": "ipython3",
   "version": "3.12.5"
  }
 },
 "nbformat": 4,
 "nbformat_minor": 2
}
