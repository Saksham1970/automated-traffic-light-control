{
 "cells": [
  {
   "cell_type": "markdown",
   "metadata": {},
   "source": [
    "## Create Test data for the emergency scenerio"
   ]
  },
  {
   "cell_type": "code",
   "execution_count": 2,
   "metadata": {},
   "outputs": [],
   "source": [
    "import os\n",
    "os.chdir('../..')\n",
    "from trips.config import *\n",
    "from trips.weibull_trips import main\n",
    "import subprocess"
   ]
  },
  {
   "cell_type": "code",
   "execution_count": null,
   "metadata": {},
   "outputs": [
    {
     "name": "stdout",
     "output_type": "stream",
     "text": [
      "Success.up to time step: 5311.00\n"
     ]
    },
    {
     "name": "stderr",
     "output_type": "stream",
     "text": [
      "Warning: Please note that 't' is deprecated.\n",
      " Use 'route-files' instead.\n"
     ]
    }
   ],
   "source": [
    "number_cars = 400\n",
    "\n",
    "if not os.path.exists(\"test\"):\n",
    "    os.makedirs(\"test\")\n",
    "    \n",
    "\n",
    "main(\n",
    "    src_nodes,\n",
    "    dst_nodes,\n",
    "    src_prob,\n",
    "    turn_prob,\n",
    "    emergency_probs,\n",
    "    shape,\n",
    "    number_cars,\n",
    "    total_timesteps,\n",
    ")\n",
    "subprocess.run(\n",
    "    [\n",
    "        \"duarouter\",\n",
    "        \"-n\",\n",
    "        \"./network_details/intersection.net.xml\",  # Input network file\n",
    "        \"-t\",\n",
    "        \"trips.trips.xml\",  # Input trips file\n",
    "        \"-o\",\n",
    "        f\"test/intersection_Emergency.rou.xml\",  # Output routes file\n",
    "    ]\n",
    ")\n",
    "os.remove(\"trips.trips.xml\")\n",
    "\n",
    "\n",
    "route_files = [\"test/intersection_Emergency.rou.xml\"]\n",
    "        "
   ]
  },
  {
   "cell_type": "code",
   "execution_count": 3,
   "metadata": {},
   "outputs": [],
   "source": [
    "from environment.environment import EmergencySumoEnvironment\n",
    "from environment.observation import EmergencyObservationFunction\n",
    "from environment.reward import emergency_reward"
   ]
  },
  {
   "cell_type": "markdown",
   "metadata": {},
   "source": [
    "## Test round robin algorithm on emergency scenerio"
   ]
  },
  {
   "cell_type": "code",
   "execution_count": null,
   "metadata": {},
   "outputs": [],
   "source": [
    "env = EmergencySumoEnvironment(\n",
    "    net_file=\"network_details/intersection.net.xml\",\n",
    "    route_files=route_files,\n",
    "    out_csv_name=f'outputs/test/Emergency/test/RoundRobin',\n",
    "    min_green=15,\n",
    "    yellow_time=5,\n",
    "    delta_time=20,\n",
    "    use_gui=False,\n",
    "    num_seconds=5400,\n",
    "    observation_class=EmergencyObservationFunction,\n",
    "    reward_fn=emergency_reward\n",
    ")\n",
    "\n",
    "obs, info = env.reset()\n",
    "done = False\n",
    "\n",
    "action_index = 0  \n",
    "while not done:\n",
    "    action = action_index % 4\n",
    "    \n",
    "    next_obs, reward, terminated, truncated, info = env.step(action)\n",
    "    done = terminated or truncated\n",
    "\n",
    "    action_index += 1\n",
    "\n",
    "obs, info = env.reset()\n",
    "env.close()"
   ]
  },
  {
   "cell_type": "markdown",
   "metadata": {},
   "source": [
    "## Test the trained DQN policy on emergency scenerio"
   ]
  },
  {
   "cell_type": "code",
   "execution_count": null,
   "metadata": {},
   "outputs": [],
   "source": [
    "from stable_baselines3 import DQN\n",
    "\n",
    "model = DQN.load(\"agents/dqn_emergency\")\n",
    "\n",
    "env = EmergencySumoEnvironment(\n",
    "    net_file=\"network_details/intersection.net.xml\",\n",
    "    route_files=route_files,\n",
    "    out_csv_name=f'outputs/test/Emergency/DQN',\n",
    "    min_green=5,\n",
    "    yellow_time=5,\n",
    "    delta_time=10,\n",
    "    use_gui=False,\n",
    "    num_seconds=5400,\n",
    "    observation_class=EmergencyObservationFunction,\n",
    "    reward_fn=emergency_reward\n",
    ")\n",
    "\n",
    "obs, info = env.reset()\n",
    "done = False\n",
    "\n",
    "while not done:\n",
    "    action, _states = model.predict(obs, deterministic=True)\n",
    "    obs, reward, terminated, truncated, info = env.step(action)\n",
    "    done = terminated or truncated\n",
    "\n",
    "obs, info = env.reset()\n",
    "env.close()"
   ]
  }
 ],
 "metadata": {
  "kernelspec": {
   "display_name": "sumo-rl",
   "language": "python",
   "name": "python3"
  },
  "language_info": {
   "codemirror_mode": {
    "name": "ipython",
    "version": 3
   },
   "file_extension": ".py",
   "mimetype": "text/x-python",
   "name": "python",
   "nbconvert_exporter": "python",
   "pygments_lexer": "ipython3",
   "version": "3.12.5"
  }
 },
 "nbformat": 4,
 "nbformat_minor": 2
}
